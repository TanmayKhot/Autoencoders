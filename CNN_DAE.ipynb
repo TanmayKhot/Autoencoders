{
  "nbformat": 4,
  "nbformat_minor": 0,
  "metadata": {
    "kernelspec": {
      "display_name": "Python [conda env:fastai_v1]",
      "language": "python",
      "name": "conda-env-fastai_v1-py"
    },
    "language_info": {
      "codemirror_mode": {
        "name": "ipython",
        "version": 3
      },
      "file_extension": ".py",
      "mimetype": "text/x-python",
      "name": "python",
      "nbconvert_exporter": "python",
      "pygments_lexer": "ipython3",
      "version": "3.6.9"
    },
    "colab": {
      "name": "CNN DAE.ipynb",
      "provenance": []
    }
  },
  "cells": [
    {
      "cell_type": "code",
      "metadata": {
        "id": "okuPwyEtpWYu",
        "colab_type": "code",
        "colab": {}
      },
      "source": [
        "import torch\n",
        "import torch.nn as nn\n",
        "import torch.nn.functional as F\n",
        "import torch.optim as optim\n",
        "import matplotlib.pyplot as plt\n",
        "\n",
        "from torch.utils.data import DataLoader\n",
        "from torchvision import datasets, transforms\n",
        "import pandas as pd\n",
        "import numpy as np\n",
        "import math"
      ],
      "execution_count": 0,
      "outputs": []
    },
    {
      "cell_type": "code",
      "metadata": {
        "id": "sWtPzfsnpWYx",
        "colab_type": "code",
        "colab": {}
      },
      "source": [
        "    transforms = transforms.Compose([transforms.ToTensor()])\n",
        "    train_dataset = datasets.MNIST(\n",
        "        './data',\n",
        "        train=True,\n",
        "        download=True,\n",
        "        transform=transforms)\n",
        "\n",
        "    test_dataset = datasets.MNIST(\n",
        "        './data',\n",
        "        train=False,\n",
        "        download=True,\n",
        "        transform=transforms\n",
        "    )"
      ],
      "execution_count": 0,
      "outputs": []
    },
    {
      "cell_type": "code",
      "metadata": {
        "id": "rS_pyYhtpWYz",
        "colab_type": "code",
        "colab": {}
      },
      "source": [
        "    BATCH_SIZE = 128    \n",
        "    N_EPOCHS = 250       \n",
        "    INPUT_DIM = 784    \n",
        "    HIDDEN_DIM = 512   \n",
        "    LATENT_DIM = 2  \n",
        "    lr = 0.001           "
      ],
      "execution_count": 0,
      "outputs": []
    },
    {
      "cell_type": "code",
      "metadata": {
        "id": "yH3SGtSIpWY2",
        "colab_type": "code",
        "colab": {}
      },
      "source": [
        "    train_iterator = torch.utils.data.DataLoader(train_dataset, batch_size=BATCH_SIZE, shuffle=False)\n",
        "    test_iterator = DataLoader(test_dataset, batch_size=BATCH_SIZE)"
      ],
      "execution_count": 0,
      "outputs": []
    },
    {
      "cell_type": "code",
      "metadata": {
        "id": "ysJW5C06pWY4",
        "colab_type": "code",
        "colab": {}
      },
      "source": [
        "  class DNAE(nn.Module):\n",
        "        \n",
        "        def __init__(self):\n",
        "            super(DNAE, self).__init__()\n",
        "      \n",
        "            self.conv1 = nn.Conv2d(1, 32, 3, padding=1)\n",
        "            self.conv2 = nn.Conv2d(32, 16, 3, padding=1)\n",
        "            self.conv3 = nn.Conv2d(16, 8, 3, padding=1)\n",
        "            self.pool = nn.MaxPool2d(2, 2)\n",
        "        \n",
        "            self.t_conv1 = nn.ConvTranspose2d(8, 8, 3, stride=2)  \n",
        "            self.t_conv2 = nn.ConvTranspose2d(8, 16, 2, stride=2)\n",
        "            self.t_conv3 = nn.ConvTranspose2d(16, 32, 2, stride=2)\n",
        "            self.conv_out = nn.Conv2d(32, 1, 3, padding=1)\n",
        "                \n",
        "        def forward(self, x):\n",
        "            x = F.relu(self.conv1(x))\n",
        "            x = self.pool(x)\n",
        "            x = F.relu(self.conv2(x))\n",
        "            x = self.pool(x)\n",
        "            x = F.relu(self.conv3(x))\n",
        "            x = self.pool(x) \n",
        "\n",
        "            ## decode ##\n",
        "            x = F.relu(self.t_conv1(x))\n",
        "            x = F.relu(self.t_conv2(x))\n",
        "            x = F.relu(self.t_conv3(x))\n",
        "            x = F.sigmoid(self.conv_out(x))\n",
        "                \n",
        "            return x\n",
        "\n",
        "        "
      ],
      "execution_count": 0,
      "outputs": []
    },
    {
      "cell_type": "code",
      "metadata": {
        "id": "25I1zoJ4pWY6",
        "colab_type": "code",
        "colab": {}
      },
      "source": [
        "    # dnae\n",
        "    device = torch.device('cuda' if torch.cuda.is_available() else 'cpu')\n",
        "    model = DNAE().to(device)\n",
        "\n",
        "    # optimizer\n",
        "    optimizer = optim.Adam(model.parameters(), lr=lr)\n",
        "    \n",
        "    criterion = nn.MSELoss()"
      ],
      "execution_count": 0,
      "outputs": []
    },
    {
      "cell_type": "code",
      "metadata": {
        "id": "EYCIr8sgpWY8",
        "colab_type": "code",
        "colab": {}
      },
      "source": [
        " def train():\n",
        "        model.train()\n",
        "\n",
        "        train_loss = 0\n",
        "\n",
        "        for x in train_iterator:\n",
        "            images,labels = x\n",
        "            noisy_images = images + torch.randn(*images.shape)\n",
        "            noisy_images = np.clip(noisy_images,0.,1.)\n",
        "            \n",
        "            # update the gradients to zero\n",
        "            optimizer.zero_grad()\n",
        "\n",
        "            # forward pass\n",
        "            result = model(noisy_images)\n",
        "\n",
        "            # reconstruction loss\n",
        "            loss = criterion(result,images)\n",
        "\n",
        "            # backward pass\n",
        "            loss.backward()\n",
        "            train_loss += loss.item()*images.size(0)\n",
        "            \n",
        "            # update the weights\n",
        "            optimizer.step()\n",
        "\n",
        "        return train_loss"
      ],
      "execution_count": 0,
      "outputs": []
    },
    {
      "cell_type": "code",
      "metadata": {
        "id": "qJ-Aczcbs_EE",
        "colab_type": "code",
        "colab": {}
      },
      "source": [
        "   best_test_loss = float('inf')\n",
        "\n",
        "    for e in range(N_EPOCHS):\n",
        "\n",
        "        train_loss = train()\n",
        "\n",
        "        train_loss /= len(train_dataset)\n",
        "\n",
        "        print(f'Epoch {e}, Train Loss: {train_loss:.2f}') "
      ],
      "execution_count": 0,
      "outputs": []
    },
    {
      "cell_type": "code",
      "metadata": {
        "id": "ZGLwYIVSpWZE",
        "colab_type": "code",
        "outputId": "416e7a2c-c6a4-42fb-d851-ce9c2c8ae162",
        "colab": {
          "base_uri": "https://localhost:8080/",
          "height": 748
        }
      },
      "source": [
        "dataiter = iter(test_iterator)\n",
        "images, labels = dataiter.next()\n",
        "\n",
        "# add noise to the test images\n",
        "noisy_imgs = images + torch.randn(*images.shape)\n",
        "noisy_imgs = np.clip(noisy_imgs, 0., 1.)\n",
        "\n",
        "# get sample outputs\n",
        "output = model(noisy_imgs)\n",
        "# prep images for display\n",
        "noisy_imgs = noisy_imgs.numpy()\n",
        "\n",
        "output = output.view(128, 1, 28, 28)\n",
        "output = output.detach().numpy()\n",
        "\n",
        "for i in range(5):\n",
        "  f, axarr = plt.subplots(1,3)\n",
        "  img = np.squeeze(images[i])\n",
        "  oimg = np.squeeze(output[i])\n",
        "  nimg = np.squeeze(noisy_imgs[i])\n",
        "  axarr[0,].imshow(img)\n",
        "  axarr[1,].imshow(nimg)\n",
        "  axarr[2,].imshow(oimg)\n",
        "\n"
      ],
      "execution_count": 67,
      "outputs": [
        {
          "output_type": "stream",
          "text": [
            "/usr/local/lib/python3.6/dist-packages/torch/nn/functional.py:1351: UserWarning: nn.functional.sigmoid is deprecated. Use torch.sigmoid instead.\n",
            "  warnings.warn(\"nn.functional.sigmoid is deprecated. Use torch.sigmoid instead.\")\n"
          ],
          "name": "stderr"
        },
        {
          "output_type": "execute_result",
          "data": {
            "text/plain": [
              "\"\\n# plot the first ten input images and then reconstructed images\\nfig, axes = plt.subplots(nrows=2, ncols=10, sharex=True, sharey=True, figsize=(25,4))\\n\\n# input images on top row, reconstructions on bottom\\nfor noisy_imgs, row in zip([noisy_imgs, output], axes):\\n    for img, ax in zip(noisy_imgs, row):\\n        ax.imshow(np.squeeze(img), cmap='gray')\\n        ax.get_xaxis().set_visible(False)\\n        ax.get_yaxis().set_visible(False)\\n\""
            ]
          },
          "metadata": {
            "tags": []
          },
          "execution_count": 67
        },
        {
          "output_type": "display_data",
          "data": {
            "image/png": "[encoded data removed]",
            "text/plain": [
              "<Figure size 432x288 with 3 Axes>"
            ]
          },
          "metadata": {
            "tags": [],
            "needs_background": "light"
          }
        },
        {
          "output_type": "display_data",
          "data": {
            "image/png": "[encoded data removed]",
            "text/plain": [
              "<Figure size 432x288 with 3 Axes>"
            ]
          },
          "metadata": {
            "tags": [],
            "needs_background": "light"
          }
        },
        {
          "output_type": "display_data",
          "data": {
            "image/png": "[encoded data removed]",
            "text/plain": [
              "<Figure size 432x288 with 3 Axes>"
            ]
          },
          "metadata": {
            "tags": [],
            "needs_background": "light"
          }
        },
        {
          "output_type": "display_data",
          "data": {
            "image/png": "[encoded data removed]",
            "text/plain": [
              "<Figure size 432x288 with 3 Axes>"
            ]
          },
          "metadata": {
            "tags": [],
            "needs_background": "light"
          }
        },
        {
          "output_type": "display_data",
          "data": {
            "image/png": "[encoded data removed]",
            "text/plain": [
              "<Figure size 432x288 with 3 Axes>"
            ]
          },
          "metadata": {
            "tags": [],
            "needs_background": "light"
          }
        }
      ]
    },
    {
      "cell_type": "code",
      "metadata": {
        "id": "cxCd-n6vpWZM",
        "colab_type": "code",
        "colab": {}
      },
      "source": [
        ""
      ],
      "execution_count": 0,
      "outputs": []
    },
    {
      "cell_type": "code",
      "metadata": {
        "id": "b9ro_VD3pWZO",
        "colab_type": "code",
        "colab": {}
      },
      "source": [
        ""
      ],
      "execution_count": 0,
      "outputs": []
    }
  ]
}